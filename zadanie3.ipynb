{
 "cells": [
  {
   "cell_type": "markdown",
   "id": "25378780",
   "metadata": {},
   "source": [
    "# Natalia Nagórka - INiS6_PR2\n",
    "\n",
    "# Zadanie 3\n"
   ]
  },
  {
   "cell_type": "markdown",
   "id": "d329e29d",
   "metadata": {},
   "source": [
    "Dekorator - jest to jeden ze strukturalnych wzorców projektowych. Pozwala on na dynamiczne dodanie nowej funkcji do istniejącej klasy podczas działania programu. Z dekoratorów korzystamy poprzedzając je ze znakiem \"@\""
   ]
  },
  {
   "cell_type": "code",
   "execution_count": 26,
   "id": "d6fc6484",
   "metadata": {},
   "outputs": [
    {
     "name": "stdout",
     "output_type": "stream",
     "text": [
      "Nazwa: user1\n",
      "Haslo: pass1\n",
      "Dostep do filmikow z kotkami uzyskany.\n"
     ]
    }
   ],
   "source": [
    "Uzytkownicy = {\n",
    "    \"user1\": \"pass1\",\n",
    "    \"user2\": \"pass2\",\n",
    "    \"user3\": \"pass3\"\n",
    "}\n",
    "\n",
    "def kontrola_dekorator(func):\n",
    "    def wrapper(*args, **kwargs):\n",
    "        nazwa = input(\"Nazwa: \")\n",
    "        haslo = input(\"Haslo: \")\n",
    "        if nazwa in Uzytkownicy and Uzytkownicy[nazwa] == haslo:\n",
    "            return func(*args, **kwargs)\n",
    "        else:\n",
    "            print(\"Niepoprawna nazwa uzytkownika lub haslo.\")\n",
    "            return None\n",
    "    return wrapper\n",
    "\n",
    "@kontrola_dekorator\n",
    "def sekretna_funkcja():\n",
    "    print(\"Dostep do filmikow z kotkami uzyskany.\")\n",
    "\n",
    "sekretna_funkcja()"
   ]
  },
  {
   "cell_type": "markdown",
   "id": "d909a25f",
   "metadata": {},
   "source": [
    "Metaklasa - Za metaklasę uznaje się tę klasę, która dziedziczy po typie type. Obiekt, którego instancją jest klasa, nazywamy metaklasą."
   ]
  },
  {
   "cell_type": "code",
   "execution_count": 4,
   "id": "2fb4af43",
   "metadata": {},
   "outputs": [
    {
     "name": "stdout",
     "output_type": "stream",
     "text": [
      "__main__.Klasa\n",
      "Własności: ['x', 'y', 'cos']\n",
      "Metody: ['cos']\n"
     ]
    }
   ],
   "source": [
    "class Opis(type):\n",
    "    def __new__(meta, name, bases, attrs):\n",
    "        # Dodanie metody description do atrybutów klasy\n",
    "        attrs['opis'] = meta.get_opis(attrs)\n",
    "        return type.__new__(meta, name, bases, attrs)\n",
    "\n",
    "    @staticmethod\n",
    "    def get_opis(attrs):\n",
    "        # Pobranie listy atrybutów i metod klasy\n",
    "        wlasnosci = [key for key in attrs.keys() if not key.startswith('__')]\n",
    "        metody = [key for key in attrs.keys() if callable(attrs[key]) and not key.startswith('__')]\n",
    "\n",
    "        # Zwrócenie napisu z nazwą klasy oraz listą atrybutów i metod\n",
    "        return f\"{attrs['__module__']}.{attrs['__qualname__']}\\nWłasności: {wlasnosci}\\nMetody: {metody}\"\n",
    "\n",
    "# Użycie metaklasy Opis\n",
    "class Klasa(metaclass=Opis):\n",
    "    x = 1\n",
    "    y = 2\n",
    "\n",
    "    def cos(self):\n",
    "        pass\n",
    "\n",
    "# Wywołanie metody description dla klasy Klasa\n",
    "print(Klasa.opis)"
   ]
  },
  {
   "cell_type": "markdown",
   "id": "27443bb9",
   "metadata": {},
   "source": [
    "Deskryptor - umożliwia utworzenie metod set, get bez tworzenia ich nazw. Głównie się przydaje do tworzenia danej encji „reprezentacja wyobrażonego lub rzeczywistego obiektu”. Deskryptory wywołuje  się za pomocą metod __get__, __set__  oraz __delete__. Deskryptor powinien być zdefiniowany na poziomie klasy"
   ]
  },
  {
   "cell_type": "code",
   "execution_count": 1,
   "id": "90240cca",
   "metadata": {},
   "outputs": [
    {
     "name": "stdout",
     "output_type": "stream",
     "text": [
      "5\n",
      "10\n"
     ]
    }
   ],
   "source": [
    "class Wieksza_niz:\n",
    "    def __init__(self, value):\n",
    "        self.value = value\n",
    "\n",
    "    def __get__(self, instance, owner):\n",
    "        return self.value\n",
    "\n",
    "    def __set__(self, instance, value):\n",
    "        if value > self.value:\n",
    "            self.value = value\n",
    "        else:\n",
    "            raise ValueError(\"Nowa wartość musi być większa niż dotychczasowa\")\n",
    "\n",
    "class MyClass:\n",
    "    number = Wieksza_niz(0)\n",
    "\n",
    "    def __init__(self, number):\n",
    "        self.number = number\n",
    "\n",
    "my_object = MyClass(5)\n",
    "print(my_object.number) # 5\n",
    "my_object.number = 10\n",
    "print(my_object.number) # 10\n",
    "#my_object.number = 2 # Raises ValueError\n",
    "#print(my_object.number)"
   ]
  },
  {
   "cell_type": "markdown",
   "id": "b0932fe0",
   "metadata": {},
   "source": [
    "# Bibliografia:\n",
    "https://blog.magnum34.com/deskryptory-python/\n",
    "https://mmazurek.dev/metaklasy-w-pythonie/\n",
    "https://refactoring.guru/pl/design-patterns/decorator"
   ]
  }
 ],
 "metadata": {
  "kernelspec": {
   "display_name": "Python 3 (ipykernel)",
   "language": "python",
   "name": "python3"
  },
  "language_info": {
   "codemirror_mode": {
    "name": "ipython",
    "version": 3
   },
   "file_extension": ".py",
   "mimetype": "text/x-python",
   "name": "python",
   "nbconvert_exporter": "python",
   "pygments_lexer": "ipython3",
   "version": "3.9.13"
  }
 },
 "nbformat": 4,
 "nbformat_minor": 5
}
