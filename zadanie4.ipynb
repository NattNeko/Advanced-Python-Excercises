{
 "cells": [
  {
   "cell_type": "markdown",
   "id": "4b0d263c",
   "metadata": {},
   "source": [
    "# Zadanie 4 - Natalia Nagórka"
   ]
  },
  {
   "cell_type": "markdown",
   "id": "9503859d",
   "metadata": {},
   "source": [
    "Wątek (ang. thread) — to jednostka wykonawcza w obrębie\n",
    "jednego procesu, będąca kolejnym ciągiem instrukcji wykonywanym\n",
    "w obrębie tych samych danych (w tej samej przestrzeni adresowej).\n",
    "Wątki tego samego procesu korzystają ze wspólnego kodu i\n",
    "danych, mają jednak oddzielne stosy."
   ]
  },
  {
   "cell_type": "code",
   "execution_count": 11,
   "id": "a8260e80",
   "metadata": {},
   "outputs": [
    {
     "name": "stdout",
     "output_type": "stream",
     "text": [
      "Pobrano i zapisano obraz 0\n",
      "Pobrano i zapisano obraz 1\n",
      "Pobrano i zapisano obraz 2\n",
      "Pobieranie obrazów zakończone\n"
     ]
    }
   ],
   "source": [
    "import threading\n",
    "import requests\n",
    "from PIL import Image\n",
    "import io\n",
    "\n",
    "# funkcja pobierająca i zapisująca obraz z internetu\n",
    "def download_image(url, image_number):\n",
    "    response = requests.get(url)\n",
    "    image_bytes = io.BytesIO(response.content)\n",
    "    image = Image.open(image_bytes)\n",
    "    image.save(f\"obraz_{image_number}.jpg\")\n",
    "    print(f\"Pobrano i zapisano obraz {image_number}\")\n",
    "\n",
    "# lista adresów URL obrazów\n",
    "image_urls = [\n",
    "    \"https://i.iplsc.com/zdj-ilustracyjne/0006DVXSTLL51M5U-C122-F4.jpg\",\n",
    "    \"https://static9.depositphotos.com/1010305/1139/i/600/depositphotos_11390423-stock-photo-kitten-on-a-white-background.jpg\",\n",
    "    \"https://www.josera.pl/media/jak-karmic-malego-kotka.jpg\"\n",
    "]\n",
    "\n",
    "# tworzenie wątków dla każdego adresu URL\n",
    "threads = []\n",
    "for i, url in enumerate(image_urls):\n",
    "    thread = threading.Thread(target=download_image, args=(url, i))\n",
    "    threads.append(thread)\n",
    "    thread.start()\n",
    "\n",
    "# oczekiwanie na zakończenie pracy wątków\n",
    "for thread in threads:\n",
    "    thread.join()\n",
    "\n",
    "print(\"Pobieranie obrazów zakończone\")\n"
   ]
  },
  {
   "cell_type": "code",
   "execution_count": 14,
   "id": "7ff9fbeb",
   "metadata": {},
   "outputs": [
    {
     "name": "stdout",
     "output_type": "stream",
     "text": [
      "Wykonywanie obliczeń zakończone\n"
     ]
    }
   ],
   "source": [
    "import threading\n",
    "import random\n",
    "\n",
    "# funkcja wykonująca operacje matematyczne i zapisująca wynik do pliku\n",
    "def oblicz_i_zapisz(filename):\n",
    "    numbers = [random.randint(1, 100) for i in range(5)] # generowanie 5 losowych liczb\n",
    "    with open(filename, 'w') as f:\n",
    "        f.write(f\"{numbers}\\n\") # zapisanie wygenerowanych liczb do pliku\n",
    "        addition = sum(numbers)\n",
    "        f.write(f\"Dodawanie: {addition}\\n\") # zapisanie wyniku dodawania do pliku\n",
    "        multiplication = 1\n",
    "        for number in numbers:\n",
    "            multiplication *= number\n",
    "        f.write(f\"Mnożenie: {multiplication}\\n\") # zapisanie wyniku mnożenia do pliku\n",
    "\n",
    "# tworzenie wątków dla każdego pliku\n",
    "threads = []\n",
    "for i in range(3):\n",
    "    filename = f\"wyniki_{i+1}.txt\"\n",
    "    thread = threading.Thread(target=oblicz_i_zapisz, args=(filename,))\n",
    "    threads.append(thread)\n",
    "    thread.start()\n",
    "\n",
    "# oczekiwanie na zakończenie pracy wątków\n",
    "for thread in threads:\n",
    "    thread.join()\n",
    "\n",
    "print(\"Wykonywanie obliczeń zakończone\")"
   ]
  },
  {
   "cell_type": "markdown",
   "id": "4e9e8a6c",
   "metadata": {},
   "source": [
    "Bibliografia:\n",
    "https://ii.uni.wroc.pl/~marcinm/dyd/python/watki.pdf"
   ]
  }
 ],
 "metadata": {
  "kernelspec": {
   "display_name": "Python 3 (ipykernel)",
   "language": "python",
   "name": "python3"
  },
  "language_info": {
   "codemirror_mode": {
    "name": "ipython",
    "version": 3
   },
   "file_extension": ".py",
   "mimetype": "text/x-python",
   "name": "python",
   "nbconvert_exporter": "python",
   "pygments_lexer": "ipython3",
   "version": "3.9.13"
  }
 },
 "nbformat": 4,
 "nbformat_minor": 5
}
